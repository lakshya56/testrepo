{
 "cells": [
  {
   "cell_type": "markdown",
   "id": "f3d701cf-cd08-403c-a23d-549dbd917955",
   "metadata": {},
   "source": [
    "# My Jupyter Notebook on IBM Watson Studio"
   ]
  },
  {
   "cell_type": "markdown",
   "id": "3ec4b0ad-fe6c-4d1b-aa6d-ddcba271f82d",
   "metadata": {},
   "source": [
    "**LAKSHYA SHARMA**\n",
    "Buisness Analyst"
   ]
  },
  {
   "cell_type": "markdown",
   "id": "e385a462-233c-4d06-b7cf-12fa4dbb602a",
   "metadata": {},
   "source": [
    "*I am interested in Data science as I am really suprissed by knowing that how much potential it has and how it can change our daily life as well as for our critical decisions.*"
   ]
  },
  {
   "cell_type": "markdown",
   "id": "47631848-e853-4859-9c08-978a5769268d",
   "metadata": {},
   "source": [
    "### Below code will print numbers from 1 to n"
   ]
  },
  {
   "cell_type": "code",
   "execution_count": 1,
   "id": "32007be0-f22d-42aa-aee4-f635d868f8ed",
   "metadata": {},
   "outputs": [
    {
     "name": "stdin",
     "output_type": "stream",
     "text": [
      " 5\n"
     ]
    },
    {
     "name": "stdout",
     "output_type": "stream",
     "text": [
      "1\n",
      "2\n",
      "3\n",
      "4\n"
     ]
    }
   ],
   "source": [
    "x=int(input())\n",
    "for i in range(1,x):\n",
    "    print(i)"
   ]
  },
  {
   "cell_type": "markdown",
   "id": "b1223c31-5a9e-4f61-aeba-5dbd63dde365",
   "metadata": {},
   "source": [
    "* This is bulleted list\n",
    "* this is list bulleted\n",
    "* This is bulleted list\n",
    "* This is bulleted list\n",
    "\n",
    "1. python\n",
    "2. C++\n",
    "3. Java\n",
    "4. Scala\n",
    "\n",
    "***\n",
    "Horizontal Line\n",
    "***\n",
    "\n",
    " <a href=\"https://www.coursera.org/\" target=\"_blank\">this link</a>\n"
   ]
  },
  {
   "cell_type": "code",
   "execution_count": null,
   "id": "da1f212d-2299-4938-8bcb-5bdf77f338c3",
   "metadata": {},
   "outputs": [],
   "source": []
  }
 ],
 "metadata": {
  "kernelspec": {
   "display_name": "Python",
   "language": "python",
   "name": "conda-env-python-py"
  },
  "language_info": {
   "codemirror_mode": {
    "name": "ipython",
    "version": 3
   },
   "file_extension": ".py",
   "mimetype": "text/x-python",
   "name": "python",
   "nbconvert_exporter": "python",
   "pygments_lexer": "ipython3",
   "version": "3.7.12"
  }
 },
 "nbformat": 4,
 "nbformat_minor": 5
}
